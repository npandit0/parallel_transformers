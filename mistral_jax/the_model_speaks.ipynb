{
 "cells": [
  {
   "cell_type": "markdown",
   "metadata": {},
   "source": [
    "# Sandbox for the model speaks\n",
    "\n",
    "trying to get plot code to work"
   ]
  },
  {
   "cell_type": "code",
   "execution_count": 56,
   "metadata": {},
   "outputs": [
    {
     "name": "stdout",
     "output_type": "stream",
     "text": [
      "The autoreload extension is already loaded. To reload it, use:\n",
      "  %reload_ext autoreload\n"
     ]
    }
   ],
   "source": [
    "%load_ext autoreload\n",
    "%autoreload 2"
   ]
  },
  {
   "cell_type": "code",
   "execution_count": 57,
   "metadata": {},
   "outputs": [],
   "source": [
    "from the_model_speaks import *"
   ]
  },
  {
   "cell_type": "code",
   "execution_count": 58,
   "metadata": {},
   "outputs": [],
   "source": [
    "NUM_ITERS = 8\n",
    "NUM_TOKENS = 2"
   ]
  },
  {
   "cell_type": "code",
   "execution_count": 59,
   "metadata": {},
   "outputs": [
    {
     "name": "stdout",
     "output_type": "stream",
     "text": [
      "Using device: cpu\n"
     ]
    },
    {
     "data": {
      "text/html": [
       "Finishing last run (ID:rwea3j42) before initializing another..."
      ],
      "text/plain": [
       "<IPython.core.display.HTML object>"
      ]
     },
     "metadata": {},
     "output_type": "display_data"
    },
    {
     "data": {
      "text/html": [
       " View run <strong style=\"color:#cdcd00\">helpful-rain-140</strong> at: <a href='https://wandb.ai/xavier_gonzalez/parallel_transformer/runs/rwea3j42' target=\"_blank\">https://wandb.ai/xavier_gonzalez/parallel_transformer/runs/rwea3j42</a><br/> View project at: <a href='https://wandb.ai/xavier_gonzalez/parallel_transformer' target=\"_blank\">https://wandb.ai/xavier_gonzalez/parallel_transformer</a><br/>Synced 5 W&B file(s), 0 media file(s), 0 artifact file(s) and 0 other file(s)"
      ],
      "text/plain": [
       "<IPython.core.display.HTML object>"
      ]
     },
     "metadata": {},
     "output_type": "display_data"
    },
    {
     "data": {
      "text/html": [
       "Find logs at: <code>./wandb/run-20241208_220644-rwea3j42/logs</code>"
      ],
      "text/plain": [
       "<IPython.core.display.HTML object>"
      ]
     },
     "metadata": {},
     "output_type": "display_data"
    },
    {
     "data": {
      "text/html": [
       "Successfully finished last run (ID:rwea3j42). Initializing new run:<br/>"
      ],
      "text/plain": [
       "<IPython.core.display.HTML object>"
      ]
     },
     "metadata": {},
     "output_type": "display_data"
    },
    {
     "data": {
      "text/html": [
       "Tracking run with wandb version 0.18.7"
      ],
      "text/plain": [
       "<IPython.core.display.HTML object>"
      ]
     },
     "metadata": {},
     "output_type": "display_data"
    },
    {
     "data": {
      "text/html": [
       "Run data is saved locally in <code>/Users/xaviergonzalez/Desktop/xavier_folders/stanford/cs229s/mistral_jax/mistral_jax/wandb/run-20241208_224757-ciu55zgz</code>"
      ],
      "text/plain": [
       "<IPython.core.display.HTML object>"
      ]
     },
     "metadata": {},
     "output_type": "display_data"
    },
    {
     "data": {
      "text/html": [
       "Syncing run <strong><a href='https://wandb.ai/xavier_gonzalez/parallel_transformer/runs/ciu55zgz' target=\"_blank\">dark-disco-141</a></strong> to <a href='https://wandb.ai/xavier_gonzalez/parallel_transformer' target=\"_blank\">Weights & Biases</a> (<a href='https://wandb.me/developer-guide' target=\"_blank\">docs</a>)<br/>"
      ],
      "text/plain": [
       "<IPython.core.display.HTML object>"
      ]
     },
     "metadata": {},
     "output_type": "display_data"
    },
    {
     "data": {
      "text/html": [
       " View project at <a href='https://wandb.ai/xavier_gonzalez/parallel_transformer' target=\"_blank\">https://wandb.ai/xavier_gonzalez/parallel_transformer</a>"
      ],
      "text/plain": [
       "<IPython.core.display.HTML object>"
      ]
     },
     "metadata": {},
     "output_type": "display_data"
    },
    {
     "data": {
      "text/html": [
       " View run at <a href='https://wandb.ai/xavier_gonzalez/parallel_transformer/runs/ciu55zgz' target=\"_blank\">https://wandb.ai/xavier_gonzalez/parallel_transformer/runs/ciu55zgz</a>"
      ],
      "text/plain": [
       "<IPython.core.display.HTML object>"
      ]
     },
     "metadata": {},
     "output_type": "display_data"
    }
   ],
   "source": [
    "device = \"cuda\" if torch.cuda.is_available() else \"cpu\"\n",
    "print(f\"Using device: {device}\")\n",
    "\n",
    "wandb.init(project=\"parallel_transformer\")\n",
    "param_file = \"../model_files/proto_params.json\"\n",
    "\n",
    "with open(param_file, \"r\") as f:\n",
    "    model_args = ModelArgs(**json.loads(f.read()))\n",
    "\n",
    "model = Transformer(\n",
    "    model_args, key=jax.random.PRNGKey(1), dtype=jnp.float32\n",
    ")  \n",
    "\n",
    "# cache_k = jnp.zeros((model_args.max_batch_size, model_args.n_layers, model_args.sliding_window, model_args.n_kv_heads, model_args.head_dim), dtype=jnp.float32)\n",
    "# cache_v = jnp.zeros((model_args.max_batch_size, model_args.n_layers, model_args.sliding_window, model_args.n_kv_heads, model_args.head_dim), dtype=jnp.float32)\n",
    "\n",
    "# tokenizer = Tokenizer(\"../model_files/tokenizer.model\")\n",
    "\n",
    "# # seq generation\n",
    "# res_seq, gen_seq, seq_logits, seq_finals = generate(\n",
    "#     model,\n",
    "#     tokenizer,\n",
    "#     cache_k,\n",
    "#     cache_v,\n",
    "#     model_args.head_dim,\n",
    "#     max_tokens=NUM_TOKENS,\n",
    "#     parallel=False,\n",
    "#     prefill=False,\n",
    "# )\n",
    "# print(f\"the output of sequential is : {res_seq}\")\n",
    "# print(f\"the generated tokens from sequential is : {gen_seq}\")\n",
    "\n",
    "# # parr generation\n",
    "# res_parr, gen_parr, parr_logits, parr_finals = generate(model, tokenizer, cache_k, cache_v, model_args.head_dim, max_tokens=NUM_TOKENS, parallel=True, num_iters=NUM_ITERS, prefill=False)\n",
    "# print(f\"the output of parallel is : {res_parr}\")\n",
    "# print(f\"the genrated tokens from parallel is : {gen_parr}\")\n",
    "\n"
   ]
  },
  {
   "cell_type": "code",
   "execution_count": 60,
   "metadata": {},
   "outputs": [
    {
     "data": {
      "text/plain": [
       "(32, 64)"
      ]
     },
     "execution_count": 60,
     "metadata": {},
     "output_type": "execute_result"
    }
   ],
   "source": [
    "parr_finals[0].squeeze().shape"
   ]
  },
  {
   "cell_type": "code",
   "execution_count": 61,
   "metadata": {},
   "outputs": [
    {
     "data": {
      "text/plain": [
       "(1, 64)"
      ]
     },
     "execution_count": 61,
     "metadata": {},
     "output_type": "execute_result"
    }
   ],
   "source": [
    "parr_finals[0].squeeze()[-1][None,...].shape"
   ]
  },
  {
   "cell_type": "code",
   "execution_count": 62,
   "metadata": {},
   "outputs": [
    {
     "data": {
      "text/plain": [
       "(1, 32, 64)"
      ]
     },
     "execution_count": 62,
     "metadata": {},
     "output_type": "execute_result"
    }
   ],
   "source": [
    "seq_finals[0].squeeze()[None, ...].shape"
   ]
  },
  {
   "cell_type": "code",
   "execution_count": 63,
   "metadata": {},
   "outputs": [
    {
     "data": {
      "image/png": "[encoded data removed]",
      "text/plain": [
       "<Figure size 640x480 with 1 Axes>"
      ]
     },
     "metadata": {},
     "output_type": "display_data"
    }
   ],
   "source": [
    "# converging...but to the wrong target :( \n",
    "tok_num = 0\n",
    "diffs = jnp.mean(\n",
    "    jnp.abs(parr_finals[0].squeeze()[-1][None, ...] - parr_finals[tok_num].squeeze()),\n",
    "    axis=(-1),\n",
    ")\n",
    "for i in range(len(diffs)):\n",
    "    plt.plot(diffs[i], label=f\"iteration {i}\")\n",
    "plt.legend()\n",
    "plt.xlabel(\"layer\")\n",
    "plt.ylabel(f\"average difference in final layer (token {tok_num})\")\n",
    "plt.yscale(\"log\")"
   ]
  },
  {
   "cell_type": "code",
   "execution_count": 64,
   "metadata": {},
   "outputs": [
    {
     "data": {
      "text/plain": [
       "the_model_speaks.Transformer"
      ]
     },
     "execution_count": 64,
     "metadata": {},
     "output_type": "execute_result"
    }
   ],
   "source": [
    "type(model)"
   ]
  },
  {
   "cell_type": "code",
   "execution_count": 65,
   "metadata": {},
   "outputs": [],
   "source": [
    "cos_freq, sin_freq = precompute_frequencies(8, 128000)\n",
    "pos = jnp.array([0])\n",
    "h0 = jr.normal(jr.PRNGKey(0), shape=(1,64))\n",
    "cache_k = jr.normal(\n",
    "    jr.PRNGKey(0),\n",
    "    (\n",
    "        model_args.max_batch_size,\n",
    "        model_args.n_layers,\n",
    "        model_args.sliding_window,\n",
    "        model_args.n_kv_heads,\n",
    "        model_args.head_dim,\n",
    "    ),\n",
    "    dtype=jnp.float32,\n",
    ")\n",
    "cache_v = cache_k.copy()"
   ]
  },
  {
   "cell_type": "code",
   "execution_count": 66,
   "metadata": {},
   "outputs": [
    {
     "name": "stdout",
     "output_type": "stream",
     "text": [
      "> \u001b[0;32m/Users/xaviergonzalez/Desktop/xavier_folders/stanford/cs229s/mistral_jax/mistral_jax/the_model_speaks.py\u001b[0m(306)\u001b[0;36m__call__\u001b[0;34m()\u001b[0m\n",
      "\u001b[0;32m    304 \u001b[0;31m    \u001b[0;32mdef\u001b[0m \u001b[0m__call__\u001b[0m\u001b[0;34m(\u001b[0m\u001b[0mself\u001b[0m\u001b[0;34m,\u001b[0m \u001b[0mx\u001b[0m\u001b[0;34m,\u001b[0m \u001b[0mcos_freq\u001b[0m\u001b[0;34m,\u001b[0m \u001b[0msin_freq\u001b[0m\u001b[0;34m,\u001b[0m \u001b[0mpositions\u001b[0m\u001b[0;34m,\u001b[0m \u001b[0mmask\u001b[0m\u001b[0;34m,\u001b[0m \u001b[0mcache_k\u001b[0m\u001b[0;34m,\u001b[0m \u001b[0mcache_v\u001b[0m\u001b[0;34m)\u001b[0m\u001b[0;34m:\u001b[0m\u001b[0;34m\u001b[0m\u001b[0;34m\u001b[0m\u001b[0m\n",
      "\u001b[0m\u001b[0;32m    305 \u001b[0;31m        \u001b[0mpdb\u001b[0m\u001b[0;34m.\u001b[0m\u001b[0mset_trace\u001b[0m\u001b[0;34m(\u001b[0m\u001b[0;34m)\u001b[0m\u001b[0;34m\u001b[0m\u001b[0;34m\u001b[0m\u001b[0m\n",
      "\u001b[0m\u001b[0;32m--> 306 \u001b[0;31m        \u001b[0mnormed_x\u001b[0m \u001b[0;34m=\u001b[0m \u001b[0mjax\u001b[0m\u001b[0;34m.\u001b[0m\u001b[0mvmap\u001b[0m\u001b[0;34m(\u001b[0m\u001b[0mself\u001b[0m\u001b[0;34m.\u001b[0m\u001b[0mattention_norm\u001b[0m\u001b[0;34m)\u001b[0m\u001b[0;34m(\u001b[0m\u001b[0mx\u001b[0m\u001b[0;34m)\u001b[0m\u001b[0;34m\u001b[0m\u001b[0;34m\u001b[0m\u001b[0m\n",
      "\u001b[0m\u001b[0;32m    307 \u001b[0;31m        r, cache_k, cache_v = self.attention(\n",
      "\u001b[0m\u001b[0;32m    308 \u001b[0;31m            \u001b[0mnormed_x\u001b[0m\u001b[0;34m,\u001b[0m \u001b[0mcos_freq\u001b[0m\u001b[0;34m,\u001b[0m \u001b[0msin_freq\u001b[0m\u001b[0;34m,\u001b[0m \u001b[0mpositions\u001b[0m\u001b[0;34m,\u001b[0m \u001b[0mmask\u001b[0m\u001b[0;34m,\u001b[0m \u001b[0mcache_k\u001b[0m\u001b[0;34m,\u001b[0m \u001b[0mcache_v\u001b[0m\u001b[0;34m\u001b[0m\u001b[0;34m\u001b[0m\u001b[0m\n",
      "\u001b[0m\n",
      "[[0.29424262 0.85110813]\n",
      " [0.75408727 1.0855358 ]]\n",
      "\n"
     ]
    }
   ],
   "source": [
    "IDX = 0\n",
    "out_full, _, _ = model.layers[IDX](h0, cos_freq[pos], sin_freq[pos], pos, None, cache_k[0,IDX], cache_v[0,IDX])"
   ]
  },
  {
   "cell_type": "code",
   "execution_count": 67,
   "metadata": {},
   "outputs": [],
   "source": [
    "partial_layers = model.partial_layers(\n",
    "    model.layers,\n",
    "    cos_freq[pos],\n",
    "    sin_freq[pos],\n",
    "    pos,\n",
    "    None,\n",
    "    cache_k[0],\n",
    "    cache_v[0]\n",
    ")"
   ]
  },
  {
   "cell_type": "code",
   "execution_count": 69,
   "metadata": {},
   "outputs": [
    {
     "name": "stdout",
     "output_type": "stream",
     "text": [
      "> \u001b[0;32m/Users/xaviergonzalez/Desktop/xavier_folders/stanford/cs229s/mistral_jax/mistral_jax/the_model_speaks.py\u001b[0m(306)\u001b[0;36m__call__\u001b[0;34m()\u001b[0m\n",
      "\u001b[0;32m    304 \u001b[0;31m    \u001b[0;32mdef\u001b[0m \u001b[0m__call__\u001b[0m\u001b[0;34m(\u001b[0m\u001b[0mself\u001b[0m\u001b[0;34m,\u001b[0m \u001b[0mx\u001b[0m\u001b[0;34m,\u001b[0m \u001b[0mcos_freq\u001b[0m\u001b[0;34m,\u001b[0m \u001b[0msin_freq\u001b[0m\u001b[0;34m,\u001b[0m \u001b[0mpositions\u001b[0m\u001b[0;34m,\u001b[0m \u001b[0mmask\u001b[0m\u001b[0;34m,\u001b[0m \u001b[0mcache_k\u001b[0m\u001b[0;34m,\u001b[0m \u001b[0mcache_v\u001b[0m\u001b[0;34m)\u001b[0m\u001b[0;34m:\u001b[0m\u001b[0;34m\u001b[0m\u001b[0;34m\u001b[0m\u001b[0m\n",
      "\u001b[0m\u001b[0;32m    305 \u001b[0;31m        \u001b[0mpdb\u001b[0m\u001b[0;34m.\u001b[0m\u001b[0mset_trace\u001b[0m\u001b[0;34m(\u001b[0m\u001b[0;34m)\u001b[0m\u001b[0;34m\u001b[0m\u001b[0;34m\u001b[0m\u001b[0m\n",
      "\u001b[0m\u001b[0;32m--> 306 \u001b[0;31m        \u001b[0mnormed_x\u001b[0m \u001b[0;34m=\u001b[0m \u001b[0mjax\u001b[0m\u001b[0;34m.\u001b[0m\u001b[0mvmap\u001b[0m\u001b[0;34m(\u001b[0m\u001b[0mself\u001b[0m\u001b[0;34m.\u001b[0m\u001b[0mattention_norm\u001b[0m\u001b[0;34m)\u001b[0m\u001b[0;34m(\u001b[0m\u001b[0mx\u001b[0m\u001b[0;34m)\u001b[0m\u001b[0;34m\u001b[0m\u001b[0;34m\u001b[0m\u001b[0m\n",
      "\u001b[0m\u001b[0;32m    307 \u001b[0;31m        r, cache_k, cache_v = self.attention(\n",
      "\u001b[0m\u001b[0;32m    308 \u001b[0;31m            \u001b[0mnormed_x\u001b[0m\u001b[0;34m,\u001b[0m \u001b[0mcos_freq\u001b[0m\u001b[0;34m,\u001b[0m \u001b[0msin_freq\u001b[0m\u001b[0;34m,\u001b[0m \u001b[0mpositions\u001b[0m\u001b[0;34m,\u001b[0m \u001b[0mmask\u001b[0m\u001b[0;34m,\u001b[0m \u001b[0mcache_k\u001b[0m\u001b[0;34m,\u001b[0m \u001b[0mcache_v\u001b[0m\u001b[0;34m\u001b[0m\u001b[0;34m\u001b[0m\u001b[0m\n",
      "\u001b[0m\n",
      "*** SyntaxError: '(' was never closed\n",
      "[[0.29424262 0.85110813]\n",
      " [0.75408727 1.0855358 ]]\n",
      "\n"
     ]
    }
   ],
   "source": [
    "out_part = partial_layers[IDX](h0)\n"
   ]
  },
  {
   "cell_type": "code",
   "execution_count": null,
   "metadata": {},
   "outputs": [
    {
     "data": {
      "text/plain": [
       "Array(2390258, dtype=int32)"
      ]
     },
     "execution_count": 43,
     "metadata": {},
     "output_type": "execute_result"
    }
   ],
   "source": [
    "jnp.argmin(cache_k-2.2798064)"
   ]
  },
  {
   "cell_type": "code",
   "execution_count": null,
   "metadata": {},
   "outputs": [
    {
     "data": {
      "text/plain": [
       "(Array([0], dtype=int32),\n",
       " Array([31], dtype=int32),\n",
       " Array([6], dtype=int32),\n",
       " Array([0], dtype=int32),\n",
       " Array([0], dtype=int32))"
      ]
     },
     "execution_count": 44,
     "metadata": {},
     "output_type": "execute_result"
    }
   ],
   "source": [
    "jnp.where(cache_k == 2.2798064)"
   ]
  },
  {
   "cell_type": "code",
   "execution_count": null,
   "metadata": {},
   "outputs": [
    {
     "data": {
      "text/plain": [
       "Array([[ 2.2798064, -0.9056061],\n",
       "       [-0.198327 ,  1.1769187]], dtype=float32)"
      ]
     },
     "execution_count": 45,
     "metadata": {},
     "output_type": "execute_result"
    }
   ],
   "source": [
    "cache_k[0, 31, 6, :2, :2]"
   ]
  },
  {
   "cell_type": "code",
   "execution_count": null,
   "metadata": {},
   "outputs": [
    {
     "data": {
      "text/plain": [
       "Array([[ 0.10780615, -0.6220313 ],\n",
       "       [-1.2680752 , -0.66429436]], dtype=float32)"
      ]
     },
     "execution_count": 53,
     "metadata": {},
     "output_type": "execute_result"
    }
   ],
   "source": [
    "cache_k[0, 30, 6, :2, :2]"
   ]
  },
  {
   "cell_type": "code",
   "execution_count": null,
   "metadata": {},
   "outputs": [
    {
     "data": {
      "text/plain": [
       "Array([[ 0.8470511 ,  0.82570654],\n",
       "       [-0.38995418, -0.5054998 ]], dtype=float32)"
      ]
     },
     "execution_count": 47,
     "metadata": {},
     "output_type": "execute_result"
    }
   ],
   "source": [
    "cache_k[0, 1, 6, :2, :2]"
   ]
  },
  {
   "cell_type": "code",
   "execution_count": null,
   "metadata": {},
   "outputs": [
    {
     "data": {
      "text/plain": [
       "Array([[0.29424262, 0.85110813],\n",
       "       [0.75408727, 1.0855358 ]], dtype=float32)"
      ]
     },
     "execution_count": 49,
     "metadata": {},
     "output_type": "execute_result"
    }
   ],
   "source": [
    "cache_k[0, 0, 6, :2, :2]"
   ]
  },
  {
   "cell_type": "code",
   "execution_count": null,
   "metadata": {},
   "outputs": [],
   "source": []
  }
 ],
 "metadata": {
  "kernelspec": {
   "display_name": "mistral-eqx",
   "language": "python",
   "name": "python3"
  },
  "language_info": {
   "codemirror_mode": {
    "name": "ipython",
    "version": 3
   },
   "file_extension": ".py",
   "mimetype": "text/x-python",
   "name": "python",
   "nbconvert_exporter": "python",
   "pygments_lexer": "ipython3",
   "version": "3.12.1"
  }
 },
 "nbformat": 4,
 "nbformat_minor": 2
}
