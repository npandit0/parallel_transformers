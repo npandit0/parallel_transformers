{
 "cells": [
  {
   "cell_type": "markdown",
   "metadata": {},
   "source": [
    "# Sandbox for the model speaks\n",
    "\n",
    "trying to get plot code to work"
   ]
  },
  {
   "cell_type": "code",
   "execution_count": 2,
   "metadata": {},
   "outputs": [],
   "source": [
    "%load_ext autoreload\n",
    "%autoreload 2"
   ]
  },
  {
   "cell_type": "code",
   "execution_count": 3,
   "metadata": {},
   "outputs": [],
   "source": [
    "from the_model_speaks import *"
   ]
  },
  {
   "cell_type": "code",
   "execution_count": 4,
   "metadata": {},
   "outputs": [],
   "source": [
    "NUM_ITERS = 8\n",
    "NUM_TOKENS = 2"
   ]
  },
  {
   "cell_type": "code",
   "execution_count": 5,
   "metadata": {},
   "outputs": [
    {
     "name": "stderr",
     "output_type": "stream",
     "text": [
      "\u001b[34m\u001b[1mwandb\u001b[0m: Using wandb-core as the SDK backend.  Please refer to https://wandb.me/wandb-core for more information.\n"
     ]
    },
    {
     "name": "stdout",
     "output_type": "stream",
     "text": [
      "Using device: cpu\n"
     ]
    },
    {
     "name": "stderr",
     "output_type": "stream",
     "text": [
      "\u001b[34m\u001b[1mwandb\u001b[0m: Currently logged in as: \u001b[33mxavier_gonzalez\u001b[0m. Use \u001b[1m`wandb login --relogin`\u001b[0m to force relogin\n"
     ]
    },
    {
     "data": {
      "text/html": [
       "Tracking run with wandb version 0.18.7"
      ],
      "text/plain": [
       "<IPython.core.display.HTML object>"
      ]
     },
     "metadata": {},
     "output_type": "display_data"
    },
    {
     "data": {
      "text/html": [
       "Run data is saved locally in <code>/Users/xaviergonzalez/Desktop/xavier_folders/stanford/cs229s/mistral_jax/mistral_jax/wandb/run-20241208_191549-f6h51h0s</code>"
      ],
      "text/plain": [
       "<IPython.core.display.HTML object>"
      ]
     },
     "metadata": {},
     "output_type": "display_data"
    },
    {
     "data": {
      "text/html": [
       "Syncing run <strong><a href='https://wandb.ai/xavier_gonzalez/parallel_transformer/runs/f6h51h0s' target=\"_blank\">quiet-hill-137</a></strong> to <a href='https://wandb.ai/xavier_gonzalez/parallel_transformer' target=\"_blank\">Weights & Biases</a> (<a href='https://wandb.me/developer-guide' target=\"_blank\">docs</a>)<br/>"
      ],
      "text/plain": [
       "<IPython.core.display.HTML object>"
      ]
     },
     "metadata": {},
     "output_type": "display_data"
    },
    {
     "data": {
      "text/html": [
       " View project at <a href='https://wandb.ai/xavier_gonzalez/parallel_transformer' target=\"_blank\">https://wandb.ai/xavier_gonzalez/parallel_transformer</a>"
      ],
      "text/plain": [
       "<IPython.core.display.HTML object>"
      ]
     },
     "metadata": {},
     "output_type": "display_data"
    },
    {
     "data": {
      "text/html": [
       " View run at <a href='https://wandb.ai/xavier_gonzalez/parallel_transformer/runs/f6h51h0s' target=\"_blank\">https://wandb.ai/xavier_gonzalez/parallel_transformer/runs/f6h51h0s</a>"
      ],
      "text/plain": [
       "<IPython.core.display.HTML object>"
      ]
     },
     "metadata": {},
     "output_type": "display_data"
    },
    {
     "name": "stdout",
     "output_type": "stream",
     "text": [
      "Generating...\n",
      "  rulesULT \n",
      "\n",
      "Time taken to generate 2 tokens: 6.64 seconds\n",
      "the output of sequential is :   rulesULT\n",
      "the generated tokens from sequential is : [15342, 4874]\n",
      "Generating...\n",
      "  rulesULT \n",
      "\n",
      "Time taken to generate 2 tokens: 4.84 seconds\n",
      "the output of parallel is :   rulesULT\n",
      "the genrated tokens from parallel is : [15342, 4874]\n"
     ]
    }
   ],
   "source": [
    "device = \"cuda\" if torch.cuda.is_available() else \"cpu\"\n",
    "print(f\"Using device: {device}\")\n",
    "\n",
    "wandb.init(project=\"parallel_transformer\")\n",
    "param_file = \"../model_files/proto_params.json\"\n",
    "\n",
    "with open(param_file, \"r\") as f:\n",
    "    model_args = ModelArgs(**json.loads(f.read()))\n",
    "\n",
    "model = Transformer(\n",
    "    model_args, key=jax.random.PRNGKey(1), dtype=jnp.float32\n",
    ")  \n",
    "\n",
    "cache_k = jnp.zeros((model_args.max_batch_size, model_args.n_layers, model_args.sliding_window, model_args.n_kv_heads, model_args.head_dim), dtype=jnp.float32)\n",
    "cache_v = jnp.zeros((model_args.max_batch_size, model_args.n_layers, model_args.sliding_window, model_args.n_kv_heads, model_args.head_dim), dtype=jnp.float32)\n",
    "\n",
    "tokenizer = Tokenizer(\"../model_files/tokenizer.model\")\n",
    "\n",
    "# seq generation\n",
    "res_seq, gen_seq, seq_logits, seq_finals = generate(\n",
    "    model,\n",
    "    tokenizer,\n",
    "    cache_k,\n",
    "    cache_v,\n",
    "    model_args.head_dim,\n",
    "    max_tokens=NUM_TOKENS,\n",
    "    parallel=False,\n",
    "    prefill=False,\n",
    ")\n",
    "print(f\"the output of sequential is : {res_seq}\")\n",
    "print(f\"the generated tokens from sequential is : {gen_seq}\")\n",
    "\n",
    "# parr generation\n",
    "res_parr, gen_parr, parr_logits, parr_finals = generate(model, tokenizer, cache_k, cache_v, model_args.head_dim, max_tokens=NUM_TOKENS, parallel=True, num_iters=NUM_ITERS, prefill=False)\n",
    "print(f\"the output of parallel is : {res_parr}\")\n",
    "print(f\"the genrated tokens from parallel is : {gen_parr}\")\n",
    "\n"
   ]
  },
  {
   "cell_type": "code",
   "execution_count": 12,
   "metadata": {},
   "outputs": [
    {
     "data": {
      "text/plain": [
       "(8, 32, 64)"
      ]
     },
     "execution_count": 12,
     "metadata": {},
     "output_type": "execute_result"
    }
   ],
   "source": [
    "parr_finals[0].squeeze().shape"
   ]
  },
  {
   "cell_type": "code",
   "execution_count": 17,
   "metadata": {},
   "outputs": [
    {
     "data": {
      "text/plain": [
       "(1, 32, 64)"
      ]
     },
     "execution_count": 17,
     "metadata": {},
     "output_type": "execute_result"
    }
   ],
   "source": [
    "parr_finals[0].squeeze()[-1][None,...].shape"
   ]
  },
  {
   "cell_type": "code",
   "execution_count": 14,
   "metadata": {},
   "outputs": [
    {
     "data": {
      "text/plain": [
       "(1, 32, 64)"
      ]
     },
     "execution_count": 14,
     "metadata": {},
     "output_type": "execute_result"
    }
   ],
   "source": [
    "seq_finals[0].squeeze()[None, ...].shape"
   ]
  },
  {
   "cell_type": "code",
   "execution_count": null,
   "metadata": {},
   "outputs": [
    {
     "data": {
      "image/png": "[encoded data removed]",
      "text/plain": [
       "<Figure size 640x480 with 1 Axes>"
      ]
     },
     "metadata": {},
     "output_type": "display_data"
    }
   ],
   "source": [
    "# converging...but to the wrong target :( \n",
    "tok_num = 0\n",
    "diffs = jnp.mean(\n",
    "    jnp.abs(parr_finals[0].squeeze()[-1][None, ...] - parr_finals[tok_num].squeeze()),\n",
    "    axis=(-1),\n",
    ")\n",
    "for i in range(len(diffs)):\n",
    "    plt.plot(diffs[i], label=f\"iteration {i}\")\n",
    "plt.legend()\n",
    "plt.xlabel(\"layer\")\n",
    "plt.ylabel(f\"average difference in final layer (token {tok_num})\")\n",
    "plt.yscale(\"log\")"
   ]
  },
  {
   "cell_type": "code",
   "execution_count": 1,
   "metadata": {},
   "outputs": [
    {
     "ename": "NameError",
     "evalue": "name 'model' is not defined",
     "output_type": "error",
     "traceback": [
      "\u001b[0;31m---------------------------------------------------------------------------\u001b[0m",
      "\u001b[0;31mNameError\u001b[0m                                 Traceback (most recent call last)",
      "Cell \u001b[0;32mIn[1], line 1\u001b[0m\n\u001b[0;32m----> 1\u001b[0m \u001b[38;5;28mtype\u001b[39m(\u001b[43mmodel\u001b[49m)\n",
      "\u001b[0;31mNameError\u001b[0m: name 'model' is not defined"
     ]
    }
   ],
   "source": [
    "type(model)"
   ]
  },
  {
   "cell_type": "code",
   "execution_count": 25,
   "metadata": {},
   "outputs": [],
   "source": [
    "h0 = jr.normal(jr.PRNGKey(0), shape=(1,64))\n",
    "cache_k = jr.normal(\n",
    "    jr.PRNGKey(0),\n",
    "    (\n",
    "        model_args.max_batch_size,\n",
    "        model_args.n_layers,\n",
    "        model_args.sliding_window,\n",
    "        model_args.n_kv_heads,\n",
    "        model_args.head_dim,\n",
    "    ),\n",
    "    dtype=jnp.float32,\n",
    ")\n",
    "cache_v = cache_k.copy()"
   ]
  },
  {
   "cell_type": "code",
   "execution_count": 26,
   "metadata": {},
   "outputs": [],
   "source": [
    "out, _, _ = model.layers[0](h0, cos_freq[pos], sin_freq[pos], pos, None, cache_k[0,0], cache_v[0,0])"
   ]
  },
  {
   "cell_type": "code",
   "execution_count": 28,
   "metadata": {},
   "outputs": [],
   "source": [
    "partial_layers = model.partial_layers(\n",
    "    model.layers,\n",
    "    cos_freq[pos],\n",
    "    sin_freq[pos],\n",
    "    pos,\n",
    "    None,\n",
    "    cache_k,\n",
    "    cache_v\n",
    ")"
   ]
  },
  {
   "cell_type": "code",
   "execution_count": 7,
   "metadata": {},
   "outputs": [],
   "source": [
    "cos_freq, sin_freq = precompute_frequencies(8, 128000)"
   ]
  },
  {
   "cell_type": "code",
   "execution_count": 8,
   "metadata": {},
   "outputs": [
    {
     "data": {
      "text/plain": [
       "(128000, 4)"
      ]
     },
     "execution_count": 8,
     "metadata": {},
     "output_type": "execute_result"
    }
   ],
   "source": [
    "cos_freq.shape"
   ]
  },
  {
   "cell_type": "code",
   "execution_count": 9,
   "metadata": {},
   "outputs": [],
   "source": [
    "pos = jnp.array([0])"
   ]
  },
  {
   "cell_type": "code",
   "execution_count": 10,
   "metadata": {},
   "outputs": [
    {
     "data": {
      "text/plain": [
       "Array([[1., 1., 1., 1.]], dtype=float32)"
      ]
     },
     "execution_count": 10,
     "metadata": {},
     "output_type": "execute_result"
    }
   ],
   "source": [
    "cos_freq[pos]"
   ]
  },
  {
   "cell_type": "code",
   "execution_count": null,
   "metadata": {},
   "outputs": [],
   "source": []
  }
 ],
 "metadata": {
  "kernelspec": {
   "display_name": "mistral-eqx",
   "language": "python",
   "name": "python3"
  },
  "language_info": {
   "codemirror_mode": {
    "name": "ipython",
    "version": 3
   },
   "file_extension": ".py",
   "mimetype": "text/x-python",
   "name": "python",
   "nbconvert_exporter": "python",
   "pygments_lexer": "ipython3",
   "version": "3.12.1"
  }
 },
 "nbformat": 4,
 "nbformat_minor": 2
}
