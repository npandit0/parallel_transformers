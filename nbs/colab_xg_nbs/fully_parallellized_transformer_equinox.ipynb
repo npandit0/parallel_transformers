{
 "cells": [
  {
   "cell_type": "markdown",
   "metadata": {
    "id": "eq2YkeMF-bT5"
   },
   "source": [
    "# Fully parallelized transformer\n",
    "\n",
    "Slides: https://docs.google.com/presentation/d/1-FK4ILh3DUY-0PVFnbI6er6XcPsj2xnXJQlN1mVlqXk/edit#slide=id.p\n",
    "\n",
    "Overleaf: https://www.overleaf.com/read/cpdvccyxnykg#772391\n",
    "\n",
    "TODOs\n",
    "* right now you have this annoying array vs list problem for the tree map, how do get around?\n",
    "\n",
    "Diagonal derivative: https://github.com/jax-ml/jax/issues/1563"
   ]
  },
  {
   "cell_type": "markdown",
   "metadata": {
    "id": "DV5X4Q81Iob5"
   },
   "source": [
    "## Transformer implementation\n",
    "\n",
    "Note that we aren't doing causal masking right now."
   ]
  },
  {
   "cell_type": "code",
   "execution_count": null,
   "metadata": {},
   "outputs": [],
   "source": [
    "# ! pip install -qqq equinox"
   ]
  },
  {
   "cell_type": "code",
   "execution_count": 2,
   "metadata": {
    "id": "tGocBEQ7AkNJ"
   },
   "outputs": [],
   "source": [
    "import matplotlib.pyplot as plt"
   ]
  },
  {
   "cell_type": "code",
   "execution_count": 3,
   "metadata": {
    "id": "lrKUrCyc-ZDU"
   },
   "outputs": [],
   "source": [
    "import jax\n",
    "import jax.numpy as jnp\n",
    "import jax.random as jr\n",
    "import equinox as eqx\n",
    "import pdb\n",
    "\n",
    "class TransformerLayer(eqx.Module):\n",
    "    self_attn: eqx.nn.MultiheadAttention\n",
    "    feed_forward: eqx.nn.MLP\n",
    "    d_model: int\n",
    "\n",
    "    def __init__(self, d_model, num_heads, d_ff, *, key):\n",
    "        keys = jax.random.split(key, 4)\n",
    "        self.self_attn = eqx.nn.MultiheadAttention(\n",
    "            num_heads=num_heads,\n",
    "            query_size=d_model,\n",
    "            key=keys[0]\n",
    "        )\n",
    "        self.feed_forward = eqx.nn.MLP(\n",
    "            in_size=d_model,\n",
    "            out_size=d_model,\n",
    "            width_size=d_ff,\n",
    "            depth=2,\n",
    "            activation=jax.nn.relu,\n",
    "            key=keys[1]\n",
    "        )\n",
    "        self.d_model = d_model\n",
    "\n",
    "    def __call__(self, x):\n",
    "        # Self-attention with residual connection and layer norm\n",
    "        attn_output = self.self_attn(x,x,x)  # Self-attention (Q=K=V=x)\n",
    "\n",
    "        # Feed-forward network with residual connection and layer norm\n",
    "        # print(f\"the shape of input x is {x.shape}\")\n",
    "        ff_output = jax.vmap(self.feed_forward)(x) # (T, d_model)\n",
    "        # print(f\"the shape of output ff_output is {ff_output.shape}\")\n",
    "        return x + ff_output\n",
    "\n",
    "class Transformer(eqx.Module):\n",
    "    layers: list\n",
    "    d_model: int\n",
    "    num_layers: int\n",
    "\n",
    "    def __init__(self, num_layers, d_model, num_heads, d_ff, *, key):\n",
    "        keys = jax.random.split(key, num_layers + 1)\n",
    "        self.layers = [\n",
    "            TransformerLayer(d_model, num_heads, d_ff, key=keys[i + 1]) for i in range(num_layers)\n",
    "        ]\n",
    "        self.d_model = d_model\n",
    "        self.num_layers = num_layers\n",
    "\n",
    "    def __call__(self, x):\n",
    "        # Apply each Transformer layer sequentially\n",
    "        # TODO: replace with jax.lax.scan (stil sequential, just runs faster)\n",
    "        for layer in self.layers:\n",
    "            x = layer(x) # (T, d_model)\n",
    "        return x\n",
    "\n",
    "    def parallel_call(self, x, num_iters=7):\n",
    "        # will use DEER. seems like we'll use way more memory, but is there a way around this...\n",
    "        T, D = x.shape\n",
    "        states_guess = [jnp.zeros((T, D)) for _ in range(self.num_layers)]# list of length num_layer, each entry (T,d_model)\n",
    "        all_states = deer(x, self.layers, states_guess, num_iters, method_name='quasi-deer')\n",
    "        return all_states\n",
    "\n",
    "\n",
    "def jacdiag_second_order(f):\n",
    "    \"\"\"\n",
    "    Helper function for computing the \"diagonal derivative\"\n",
    "    But for functions from second order tensor to second order tensor\n",
    "    https://github.com/jax-ml/jax/issues/1563\n",
    "    \"\"\"\n",
    "    def _jacdiag(x):\n",
    "        y = []\n",
    "        for i in range(x.shape[0]):\n",
    "            y.append([])\n",
    "            for j in range(x.shape[1]):\n",
    "\n",
    "                def partial_grad_f_x(xij):\n",
    "                    return f(x.at[i,j].set(xij))[i,j]\n",
    "\n",
    "                y[-1].append(jax.grad(partial_grad_f_x)(x[i,j]))\n",
    "        return jax.numpy.array(y)\n",
    "\n",
    "    return _jacdiag\n",
    "\n",
    "\n",
    "def jacdiag(f):\n",
    "    \"\"\"\n",
    "    Helper function for computing the diagonal derivative\n",
    "    https://github.com/jax-ml/jax/issues/1563\n",
    "    \"\"\"\n",
    "\n",
    "    def _jacdiag(x):\n",
    "        y = []\n",
    "        for i in range(x.shape[0]):\n",
    "\n",
    "            def partial_grad_f_x(xi):\n",
    "                return f(x.at[i].set(xi))[i]\n",
    "\n",
    "            y.append(jax.grad(partial_grad_f_x)(x[i]))\n",
    "        return jax.numpy.array(y)\n",
    "\n",
    "    return _jacdiag\n",
    "\n",
    "\n",
    "def deer(x, layers, states_guess, num_iters, method_name='deer'):\n",
    "    num_layers = len(layers)   \n",
    "    \"\"\"\n",
    "    runs deer (fiddly logic in the rearrange)\n",
    "\n",
    "    Args:\n",
    "        x: (T, d) initial inputs to transformer stack\n",
    "        layers: list of TransformerLayer objects (the functions that propagate information over the stack)\n",
    "        states_guess: list of length num_layers of (T, D) shaped arrays\n",
    "        num_iters: number of iterations to run for\n",
    "        method_name: str, 'deer' or 'quasi-deer'\n",
    "\n",
    "    \"\"\"\n",
    "    T,D = x.shape\n",
    "    @jax.vmap\n",
    "    def full_mat_operator(q_i, q_j):\n",
    "        \"\"\"Binary operator for parallel scan of linear recurrence. Assumes a full Jacobian matrix A\n",
    "    Args:\n",
    "        q_i: tuple containing J_i and b_i at position i       (P,P), (P,)\n",
    "        q_j: tuple containing J_j and b_j at position j       (P,P), (P,)\n",
    "    Returns:\n",
    "        new element ( A_out, Bu_out )\n",
    "    \"\"\"\n",
    "        A_i, b_i = q_i\n",
    "        A_j, b_j = q_j\n",
    "        return A_j @ A_i, A_j @ b_i + b_j\n",
    "\n",
    "    @jax.vmap\n",
    "    def diag_mat_operator(q_i, q_j):\n",
    "        \"\"\"Binary operator for parallel scan of linear recurrence. Assumes a DIAGONAL Jacobian matrix A\n",
    "    Args:\n",
    "        q_i: tuple containing J_i and b_i at position i       (P,P), (P,)\n",
    "        q_j: tuple containing J_j and b_j at position j       (P,P), (P,)\n",
    "    Returns:\n",
    "        new element ( A_out, Bu_out )\n",
    "    \"\"\"\n",
    "        A_i, b_i = q_i\n",
    "        A_j, b_j = q_j\n",
    "        return A_j * A_i, A_j * b_i + b_j\n",
    "\n",
    "    def step(states, args):\n",
    "        \"\"\"\n",
    "    This step is a single deer iteration (will eventually be sequential scanned)\n",
    "    Args:\n",
    "      states: list of length num_layers of (T, D) shaped arrays\n",
    "      args: None\n",
    "    \"\"\"\n",
    "        states = [x] + states[:-1]  # length num_layers, each shape (T,D)\n",
    "        fs = jnp.array(\n",
    "            jax.tree_util.tree_map(lambda x, f: f(x), states, layers)\n",
    "        )  # (num_layers, T,D) arrays, note that we keep states as a list so we can use jax.tree.map\n",
    "        flattened_fs = jnp.reshape(fs, (num_layers, T * D))  # (num_layers, T*D)\n",
    "        # below line is where we take the derivative\n",
    "        if method_name == \"deer\":\n",
    "            As = jnp.array(\n",
    "                jax.tree_util.tree_map(lambda x, f: jax.jacrev(f)(x), states, layers)\n",
    "            )  # (num_layers, T, D, T, D) tensors\n",
    "            As = As.at[0].set(jnp.zeros((T, D, T, D)))\n",
    "            flattened_As = jnp.reshape(\n",
    "                As, (num_layers, T * D, T * D)  # (num_layers, T*D, T*D)\n",
    "            )  # (num_layers, T*D, T*D)\n",
    "        elif method_name == \"quasi-deer\":\n",
    "            As = jnp.array(\n",
    "                jax.tree_util.tree_map(lambda x, f: jacdiag_second_order(f)(x), states, layers) # (num_layers, T, D)\n",
    "            )\n",
    "            As = As.at[0].set(jnp.zeros((T, D)))\n",
    "            flattened_As = jnp.reshape(As, (num_layers, T * D))# (num_layers, T*D)\n",
    "        # turning states from list to array\n",
    "        states = jnp.array(states)  # (num_layers, T,D)\n",
    "        flattened_states = jnp.reshape(states, (num_layers, T * D))  # (num_layers, T*D)\n",
    "        if method_name == \"deer\":\n",
    "            bs = flattened_fs - jnp.einsum(\n",
    "                \"tij,tj->ti\", flattened_As, flattened_states\n",
    "            )  # (num_layers, T*D)\n",
    "            binary_op = full_mat_operator\n",
    "        elif method_name == \"quasi-deer\":\n",
    "            bs = flattened_fs - flattened_As * flattened_states\n",
    "            binary_op = diag_mat_operator\n",
    "\n",
    "        # finally ready to evaluate linearized dynamics (in parallel)\n",
    "        _, new_states = jax.lax.associative_scan(binary_op, (flattened_As, bs)) # parallel operation\n",
    "        new_states = jnp.nan_to_num(new_states)  # zero out nans, (num_layers, T*D)\n",
    "        new_states = jnp.reshape(new_states, (num_layers, T, D)) # (num_layers, T, D)\n",
    "        return list(new_states), new_states\n",
    "\n",
    "    final_state, iter_hist = jax.lax.scan(step, states_guess, None, length=num_iters) # state_iters will show all the intermediate traces\n",
    "    return iter_hist"
   ]
  },
  {
   "cell_type": "code",
   "execution_count": 4,
   "metadata": {
    "id": "97rQ2T4gFvuN"
   },
   "outputs": [],
   "source": [
    "# Initialize Transformer with 100 layers\n",
    "key = jax.random.PRNGKey(0)\n",
    "num_layers = 100\n",
    "d_model = 8\n",
    "num_heads = 8\n",
    "d_ff = 32 # 256\n",
    "\n",
    "transformer_model = Transformer(\n",
    "    num_layers=num_layers,\n",
    "    d_model=d_model,\n",
    "    num_heads=num_heads,\n",
    "    d_ff=d_ff,\n",
    "    key=key\n",
    ")\n",
    "\n",
    "# Example input for testing\n",
    "T = 5\n",
    "x = jax.random.normal(key, (T, d_model))  # (T,d_model)"
   ]
  },
  {
   "cell_type": "markdown",
   "metadata": {
    "id": "5kXwFBObId9A"
   },
   "source": [
    "## Can we accelerate with first order fixed point iterations?\n",
    "\n",
    "The scan seems to take the same of time no matter how many iterations...why is compilation so slow?"
   ]
  },
  {
   "cell_type": "code",
   "execution_count": 5,
   "metadata": {
    "id": "5kgxdt298EDi"
   },
   "outputs": [],
   "source": [
    "seq_output = transformer_model(x)"
   ]
  },
  {
   "cell_type": "code",
   "execution_count": null,
   "metadata": {
    "id": "z16ANFjD6Amm"
   },
   "outputs": [],
   "source": [
    "parr_output = transformer_model.parallel_call(x, num_iters=7)"
   ]
  },
  {
   "cell_type": "code",
   "execution_count": null,
   "metadata": {
    "colab": {
     "base_uri": "https://localhost:8080/",
     "height": 472
    },
    "id": "TMkuLHhkHwnM",
    "outputId": "5fff724a-8dbe-4026-caba-a0f30bef9608"
   },
   "outputs": [
    {
     "data": {
      "image/png": "[encoded data removed]",
      "text/plain": [
       "<Figure size 640x480 with 1 Axes>"
      ]
     },
     "metadata": {},
     "output_type": "display_data"
    }
   ],
   "source": [
    "plt.plot(jnp.mean(jnp.abs(seq_output - parr_output[:, -1]), axis=(1,2)))\n",
    "plt.yscale('log')\n",
    "plt.xlabel('iteration number')\n",
    "plt.ylabel('avg err per entry')\n",
    "plt.show()"
   ]
  },
  {
   "cell_type": "markdown",
   "metadata": {
    "id": "fwmfVV5Fr4rs"
   },
   "source": [
    "# Appendix"
   ]
  },
  {
   "cell_type": "code",
   "execution_count": null,
   "metadata": {
    "id": "-Tk093plr5i7"
   },
   "outputs": [],
   "source": [
    "# def deer_v1(x, layers, states_guess, num_iters):\n",
    "#   \"\"\"\n",
    "#   runs deer (fiddling logic in the parallel scan)\n",
    "\n",
    "#   Args:\n",
    "#     x: (T, d) initial inputs to transformer stack\n",
    "#     layers: list of TransformerLayer objects (the functions that propagate information over the stack)\n",
    "#     states_guess: list of length num_layers of (T, D) shaped arrays\n",
    "#     num_iters: number of iterations to run for\n",
    "\n",
    "#   Todo:\n",
    "#     * einsums might be wrong\n",
    "#     * the associative scan might be slightly wrong\n",
    "#   \"\"\"\n",
    "#   @jax.vmap\n",
    "#   def binary_op(q_i, q_j):\n",
    "#     A_i, b_i = q_i\n",
    "#     A_j, b_j = q_j\n",
    "#     # how do we do this Jacobian matrix multiply?\n",
    "#     newA = jnp.einsum(\"tdse,seuf->tduf\", A_i, A_j)\n",
    "#     newB = jnp.einsum(\"tdse,td->tse\", A_j, b_i) + b_j\n",
    "#     return (newA, newB)\n",
    "\n",
    "#   def step(states, args):\n",
    "#     \"\"\"\n",
    "#     This step is a single deer iteration (will eventually be sequential scanned)\n",
    "#     Args:\n",
    "#       states: list of length num_layers of (T, D) shaped arrays\n",
    "#       args: None\n",
    "#     \"\"\"\n",
    "#     states = [x] + states[:-1] # length num_layers\n",
    "#     fs = jnp.array(jax.tree.map(lambda x, f : f(x), states, layers)) # (num_layers, T,D) arrays, note that we keep states as a list so we can use jax.tree.map\n",
    "#     As = jnp.array(jax.tree.map(lambda x, f : jax.jacrev(f)(x), states, layers)) # (num_layers, T, D, T, D) tensors\n",
    "#     states = jnp.array(states) # (num_layers, T,D)\n",
    "#     bs = fs - jnp.einsum(\"ltdse, ltd->lse\", As, states) # (num_layers, T, D) # need to double check this\n",
    "#     _, new_states = jax.lax.associative_scan(binary_op, (As, bs)) # parallel operation # I think I messed this up slightly, need to be a bit careful\n",
    "#     new_states = jnp.nan_to_num(new_states)  # zero out nans, (num_layers, T, D)\n",
    "#     return list(new_states), new_states\n",
    "\n",
    "#   final_state, iter_hist = jax.lax.scan(step, states_guess, None, length=num_iters) # state_iters will show all the intermediate traces\n",
    "#   return final_state\n"
   ]
  }
 ],
 "metadata": {
  "accelerator": "GPU",
  "colab": {
   "gpuType": "A100",
   "machine_shape": "hm",
   "provenance": [],
   "toc_visible": true
  },
  "kernelspec": {
   "display_name": "mistral-eqx",
   "language": "python",
   "name": "python3"
  },
  "language_info": {
   "codemirror_mode": {
    "name": "ipython",
    "version": 3
   },
   "file_extension": ".py",
   "mimetype": "text/x-python",
   "name": "python",
   "nbconvert_exporter": "python",
   "pygments_lexer": "ipython3",
   "version": "3.12.1"
  }
 },
 "nbformat": 4,
 "nbformat_minor": 0
}
