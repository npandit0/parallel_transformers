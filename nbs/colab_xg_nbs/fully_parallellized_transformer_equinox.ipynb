{
  "nbformat": 4,
  "nbformat_minor": 0,
  "metadata": {
    "colab": {
      "provenance": [],
      "toc_visible": true,
      "machine_shape": "hm",
      "gpuType": "A100"
    },
    "kernelspec": {
      "name": "python3",
      "display_name": "Python 3"
    },
    "language_info": {
      "name": "python"
    },
    "accelerator": "GPU"
  },
  "cells": [
    {
      "cell_type": "markdown",
      "source": [
        "# Fully parallelized transformer\n",
        "\n",
        "Slides: https://docs.google.com/presentation/d/1-FK4ILh3DUY-0PVFnbI6er6XcPsj2xnXJQlN1mVlqXk/edit#slide=id.p\n",
        "\n",
        "Overleaf: https://www.overleaf.com/read/cpdvccyxnykg#772391\n",
        "\n",
        "TODOs\n",
        "* right now you have this annoying array vs list problem for the tree map, how do get around?"
      ],
      "metadata": {
        "id": "eq2YkeMF-bT5"
      }
    },
    {
      "cell_type": "markdown",
      "source": [
        "## Transformer implementation\n",
        "\n",
        "Note that we aren't doing causal masking right now."
      ],
      "metadata": {
        "id": "DV5X4Q81Iob5"
      }
    },
    {
      "cell_type": "code",
      "source": [
        "! pip install equinox"
      ],
      "metadata": {
        "colab": {
          "base_uri": "https://localhost:8080/"
        },
        "id": "_qrt79IWCc3W",
        "outputId": "f0966c52-6cf1-4c47-9c38-982358481593"
      },
      "execution_count": null,
      "outputs": [
        {
          "output_type": "stream",
          "name": "stdout",
          "text": [
            "Collecting equinox\n",
            "  Downloading equinox-0.11.8-py3-none-any.whl.metadata (18 kB)\n",
            "Requirement already satisfied: jax!=0.4.27,>=0.4.13 in /usr/local/lib/python3.10/dist-packages (from equinox) (0.4.33)\n",
            "Collecting jaxtyping>=0.2.20 (from equinox)\n",
            "  Downloading jaxtyping-0.2.34-py3-none-any.whl.metadata (6.4 kB)\n",
            "Requirement already satisfied: typing-extensions>=4.5.0 in /usr/local/lib/python3.10/dist-packages (from equinox) (4.12.2)\n",
            "Requirement already satisfied: jaxlib<=0.4.33,>=0.4.33 in /usr/local/lib/python3.10/dist-packages (from jax!=0.4.27,>=0.4.13->equinox) (0.4.33)\n",
            "Requirement already satisfied: ml-dtypes>=0.2.0 in /usr/local/lib/python3.10/dist-packages (from jax!=0.4.27,>=0.4.13->equinox) (0.4.1)\n",
            "Requirement already satisfied: numpy>=1.24 in /usr/local/lib/python3.10/dist-packages (from jax!=0.4.27,>=0.4.13->equinox) (1.26.4)\n",
            "Requirement already satisfied: opt-einsum in /usr/local/lib/python3.10/dist-packages (from jax!=0.4.27,>=0.4.13->equinox) (3.4.0)\n",
            "Requirement already satisfied: scipy>=1.10 in /usr/local/lib/python3.10/dist-packages (from jax!=0.4.27,>=0.4.13->equinox) (1.13.1)\n",
            "Collecting typeguard==2.13.3 (from jaxtyping>=0.2.20->equinox)\n",
            "  Downloading typeguard-2.13.3-py3-none-any.whl.metadata (3.6 kB)\n",
            "Downloading equinox-0.11.8-py3-none-any.whl (179 kB)\n",
            "\u001b[2K   \u001b[90m━━━━━━━━━━━━━━━━━━━━━━━━━━━━━━━━━━━━━━━━\u001b[0m \u001b[32m179.3/179.3 kB\u001b[0m \u001b[31m5.2 MB/s\u001b[0m eta \u001b[36m0:00:00\u001b[0m\n",
            "\u001b[?25hDownloading jaxtyping-0.2.34-py3-none-any.whl (42 kB)\n",
            "\u001b[2K   \u001b[90m━━━━━━━━━━━━━━━━━━━━━━━━━━━━━━━━━━━━━━━━\u001b[0m \u001b[32m42.4/42.4 kB\u001b[0m \u001b[31m3.3 MB/s\u001b[0m eta \u001b[36m0:00:00\u001b[0m\n",
            "\u001b[?25hDownloading typeguard-2.13.3-py3-none-any.whl (17 kB)\n",
            "Installing collected packages: typeguard, jaxtyping, equinox\n",
            "  Attempting uninstall: typeguard\n",
            "    Found existing installation: typeguard 4.4.0\n",
            "    Uninstalling typeguard-4.4.0:\n",
            "      Successfully uninstalled typeguard-4.4.0\n",
            "\u001b[31mERROR: pip's dependency resolver does not currently take into account all the packages that are installed. This behaviour is the source of the following dependency conflicts.\n",
            "inflect 7.4.0 requires typeguard>=4.0.1, but you have typeguard 2.13.3 which is incompatible.\u001b[0m\u001b[31m\n",
            "\u001b[0mSuccessfully installed equinox-0.11.8 jaxtyping-0.2.34 typeguard-2.13.3\n"
          ]
        }
      ]
    },
    {
      "cell_type": "code",
      "source": [
        "import matplotlib.pyplot as plt"
      ],
      "metadata": {
        "id": "tGocBEQ7AkNJ"
      },
      "execution_count": null,
      "outputs": []
    },
    {
      "cell_type": "code",
      "execution_count": null,
      "metadata": {
        "id": "lrKUrCyc-ZDU"
      },
      "outputs": [],
      "source": [
        "import jax\n",
        "import jax.numpy as jnp\n",
        "import jax.random as jr\n",
        "import equinox as eqx\n",
        "import pdb\n",
        "\n",
        "class TransformerLayer(eqx.Module):\n",
        "    self_attn: eqx.nn.MultiheadAttention\n",
        "    feed_forward: eqx.nn.MLP\n",
        "    d_model: int\n",
        "\n",
        "    def __init__(self, d_model, num_heads, d_ff, *, key):\n",
        "        keys = jax.random.split(key, 4)\n",
        "        self.self_attn = eqx.nn.MultiheadAttention(\n",
        "            num_heads=num_heads,\n",
        "            query_size=d_model,\n",
        "            key=keys[0]\n",
        "        )\n",
        "        self.feed_forward = eqx.nn.MLP(\n",
        "            in_size=d_model,\n",
        "            out_size=d_model,\n",
        "            width_size=d_ff,\n",
        "            depth=2,\n",
        "            activation=jax.nn.relu,\n",
        "            key=keys[1]\n",
        "        )\n",
        "        self.d_model = d_model\n",
        "\n",
        "    def __call__(self, x):\n",
        "        # Self-attention with residual connection and layer norm\n",
        "        attn_output = self.self_attn(x,x,x)  # Self-attention (Q=K=V=x)\n",
        "\n",
        "        # Feed-forward network with residual connection and layer norm\n",
        "        # print(f\"the shape of input x is {x.shape}\")\n",
        "        ff_output = jax.vmap(self.feed_forward)(x) # (T, d_model)\n",
        "        # print(f\"the shape of output ff_output is {ff_output.shape}\")\n",
        "        return x + ff_output\n",
        "\n",
        "class Transformer(eqx.Module):\n",
        "    layers: list\n",
        "    d_model: int\n",
        "\n",
        "    def __init__(self, num_layers, d_model, num_heads, d_ff, *, key):\n",
        "        keys = jax.random.split(key, num_layers + 1)\n",
        "        self.layers = [\n",
        "            TransformerLayer(d_model, num_heads, d_ff, key=keys[i + 1]) for i in range(num_layers)\n",
        "        ]\n",
        "        self.d_model = d_model\n",
        "\n",
        "    def __call__(self, x):\n",
        "        # Apply each Transformer layer sequentially\n",
        "        # TODO: replace with jax.lax.scan (stil sequential, just runs faster)\n",
        "        for layer in self.layers:\n",
        "            x = layer(x) # (T, d_model)\n",
        "        return x\n",
        "\n",
        "    def parallel_call(self, x, num_iters=7):\n",
        "        # will use DEER. seems like we'll use way more memory, but is there a way around this...\n",
        "        T, D = x.shape\n",
        "        states_guess = [jnp.zeros((T, D)) for _ in range(num_layers)]# list of length num_layer, each entry (T,d_model)\n",
        "        all_states = deer(x, self.layers, states_guess, num_iters)\n",
        "        return all_states\n",
        "\n",
        "def deer(x, layers, states_guess, num_iters):\n",
        "  \"\"\"\n",
        "  runs deer (fiddly logic in the rearrange)\n",
        "\n",
        "  Args:\n",
        "    x: (T, d) initial inputs to transformer stack\n",
        "    layers: list of TransformerLayer objects (the functions that propagate information over the stack)\n",
        "    states_guess: list of length num_layers of (T, D) shaped arrays\n",
        "    num_iters: number of iterations to run for\n",
        "\n",
        "  Todo:\n",
        "    * einsums might be wrong\n",
        "    * the associative scan might be slightly wrong\n",
        "  \"\"\"\n",
        "  T,D = x.shape\n",
        "  @jax.vmap\n",
        "  def binary_op(q_i, q_j):\n",
        "      \"\"\"Binary operator for parallel scan of linear recurrence. Assumes a full Jacobian matrix A\n",
        "      Args:\n",
        "          q_i: tuple containing J_i and b_i at position i       (P,P), (P,)\n",
        "          q_j: tuple containing J_j and b_j at position j       (P,P), (P,)\n",
        "      Returns:\n",
        "          new element ( A_out, Bu_out )\n",
        "      \"\"\"\n",
        "      A_i, b_i = q_i\n",
        "      A_j, b_j = q_j\n",
        "      return A_j @ A_i, A_j @ b_i + b_j\n",
        "\n",
        "  def step(states, args):\n",
        "    \"\"\"\n",
        "    This step is a single deer iteration (will eventually be sequential scanned)\n",
        "    Args:\n",
        "      states: list of length num_layers of (T, D) shaped arrays\n",
        "      args: None\n",
        "    \"\"\"\n",
        "    states = [x] + states[:-1] # length num_layers\n",
        "    fs = jnp.array(jax.tree.map(lambda x, f : f(x), states, layers)) # (num_layers, T,D) arrays, note that we keep states as a list so we can use jax.tree.map\n",
        "    As = jnp.array(jax.tree.map(lambda x, f : jax.jacrev(f)(x), states, layers)) # (num_layers, T, D, T, D) tensors\n",
        "    As = As.at[0].set(jnp.zeros((T, D, T, D)))\n",
        "    # need to make the first A equal to zero\n",
        "    states = jnp.array(states) # (num_layers, T,D)\n",
        "    # do some rearranging\n",
        "    flattened_states= jnp.reshape(states, (num_layers, T*D)) # (num_layers, T*D)\n",
        "    flattened_As = jnp.reshape(As, (num_layers, T*D, T*D)) # (num_layers, T*D, T*D)\n",
        "    flattened_fs = jnp.reshape(fs, (num_layers, T*D)) # (num_layers, T*D)\n",
        "    bs = flattened_fs -jnp.einsum(\"tij,tj->ti\", flattened_As, flattened_states) # (num_layers, T*D)\n",
        "\n",
        "    # finally ready to evaluate linearized dynamics (in parallel)\n",
        "    _, new_states = jax.lax.associative_scan(binary_op, (flattened_As, bs)) # parallel operation\n",
        "    new_states = jnp.nan_to_num(new_states)  # zero out nans, (num_layers, T*D)\n",
        "    new_states = jnp.reshape(new_states, (num_layers, T, D)) # (num_layers, T, D)\n",
        "    return list(new_states), new_states\n",
        "\n",
        "  final_state, iter_hist = jax.lax.scan(step, states_guess, None, length=num_iters) # state_iters will show all the intermediate traces\n",
        "  return iter_hist\n",
        "\n",
        "\n",
        "\n",
        "\n",
        "\n"
      ]
    },
    {
      "cell_type": "code",
      "source": [
        "# Initialize Transformer with 100 layers\n",
        "key = jax.random.PRNGKey(0)\n",
        "num_layers = 100\n",
        "d_model = 64\n",
        "num_heads = 8\n",
        "d_ff = 256\n",
        "\n",
        "transformer_model = Transformer(\n",
        "    num_layers=num_layers,\n",
        "    d_model=d_model,\n",
        "    num_heads=num_heads,\n",
        "    d_ff=d_ff,\n",
        "    key=key\n",
        ")\n",
        "\n",
        "# Example input for testing\n",
        "T = 10\n",
        "x = jax.random.normal(key, (T, d_model))  # (T,d_model)"
      ],
      "metadata": {
        "id": "97rQ2T4gFvuN"
      },
      "execution_count": null,
      "outputs": []
    },
    {
      "cell_type": "markdown",
      "source": [
        "## Can we accelerate with first order fixed point iterations?\n"
      ],
      "metadata": {
        "id": "5kXwFBObId9A"
      }
    },
    {
      "cell_type": "code",
      "source": [
        "seq_output = transformer_model(x)"
      ],
      "metadata": {
        "id": "5kgxdt298EDi"
      },
      "execution_count": null,
      "outputs": []
    },
    {
      "cell_type": "code",
      "source": [
        "parr_output = transformer_model.parallel_call(x, num_iters=7)"
      ],
      "metadata": {
        "id": "z16ANFjD6Amm"
      },
      "execution_count": null,
      "outputs": []
    },
    {
      "cell_type": "code",
      "source": [
        "plt.plot(jnp.mean(jnp.abs(seq_output - parr_output[:, -1]), axis=(1,2)))\n",
        "plt.yscale('log')\n",
        "plt.xlabel('iteration number')\n",
        "plt.ylabel('avg err per entry')\n",
        "plt.title(\"A100\")\n",
        "plt.show()"
      ],
      "metadata": {
        "id": "TMkuLHhkHwnM",
        "outputId": "5fff724a-8dbe-4026-caba-a0f30bef9608",
        "colab": {
          "base_uri": "https://localhost:8080/",
          "height": 472
        }
      },
      "execution_count": null,
      "outputs": [
        {
          "output_type": "display_data",
          "data": {
            "text/plain": [
              "<Figure size 640x480 with 1 Axes>"
            ],
            "image/png": "[encoded data removed]"
          },
          "metadata": {}
        }
      ]
    },
    {
      "cell_type": "markdown",
      "source": [
        "# Appendix"
      ],
      "metadata": {
        "id": "fwmfVV5Fr4rs"
      }
    },
    {
      "cell_type": "code",
      "source": [
        "# def deer_v1(x, layers, states_guess, num_iters):\n",
        "#   \"\"\"\n",
        "#   runs deer (fiddling logic in the parallel scan)\n",
        "\n",
        "#   Args:\n",
        "#     x: (T, d) initial inputs to transformer stack\n",
        "#     layers: list of TransformerLayer objects (the functions that propagate information over the stack)\n",
        "#     states_guess: list of length num_layers of (T, D) shaped arrays\n",
        "#     num_iters: number of iterations to run for\n",
        "\n",
        "#   Todo:\n",
        "#     * einsums might be wrong\n",
        "#     * the associative scan might be slightly wrong\n",
        "#   \"\"\"\n",
        "#   @jax.vmap\n",
        "#   def binary_op(q_i, q_j):\n",
        "#     A_i, b_i = q_i\n",
        "#     A_j, b_j = q_j\n",
        "#     # how do we do this Jacobian matrix multiply?\n",
        "#     newA = jnp.einsum(\"tdse,seuf->tduf\", A_i, A_j)\n",
        "#     newB = jnp.einsum(\"tdse,td->tse\", A_j, b_i) + b_j\n",
        "#     return (newA, newB)\n",
        "\n",
        "#   def step(states, args):\n",
        "#     \"\"\"\n",
        "#     This step is a single deer iteration (will eventually be sequential scanned)\n",
        "#     Args:\n",
        "#       states: list of length num_layers of (T, D) shaped arrays\n",
        "#       args: None\n",
        "#     \"\"\"\n",
        "#     states = [x] + states[:-1] # length num_layers\n",
        "#     fs = jnp.array(jax.tree.map(lambda x, f : f(x), states, layers)) # (num_layers, T,D) arrays, note that we keep states as a list so we can use jax.tree.map\n",
        "#     As = jnp.array(jax.tree.map(lambda x, f : jax.jacrev(f)(x), states, layers)) # (num_layers, T, D, T, D) tensors\n",
        "#     states = jnp.array(states) # (num_layers, T,D)\n",
        "#     bs = fs - jnp.einsum(\"ltdse, ltd->lse\", As, states) # (num_layers, T, D) # need to double check this\n",
        "#     _, new_states = jax.lax.associative_scan(binary_op, (As, bs)) # parallel operation # I think I messed this up slightly, need to be a bit careful\n",
        "#     new_states = jnp.nan_to_num(new_states)  # zero out nans, (num_layers, T, D)\n",
        "#     return list(new_states), new_states\n",
        "\n",
        "#   final_state, iter_hist = jax.lax.scan(step, states_guess, None, length=num_iters) # state_iters will show all the intermediate traces\n",
        "#   return final_state\n"
      ],
      "metadata": {
        "id": "-Tk093plr5i7"
      },
      "execution_count": null,
      "outputs": []
    }
  ]
}